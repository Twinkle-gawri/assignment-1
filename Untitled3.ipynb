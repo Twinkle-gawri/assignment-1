{
  "nbformat": 4,
  "nbformat_minor": 0,
  "metadata": {
    "colab": {
      "provenance": [],
      "collapsed_sections": [
        "Izl_PBLgtKTq",
        "ZG4nyffOy_LE",
        "by88kyibEkRu",
        "CHSsiI6PrmX0",
        "faH186JNH5mn"
      ],
      "authorship_tag": "ABX9TyPhDsfKRuRyIwuq/XxDe/QX",
      "include_colab_link": true
    },
    "kernelspec": {
      "name": "python3",
      "display_name": "Python 3"
    },
    "language_info": {
      "name": "python"
    }
  },
  "cells": [
    {
      "cell_type": "markdown",
      "metadata": {
        "id": "view-in-github",
        "colab_type": "text"
      },
      "source": [
        "<a href=\"https://colab.research.google.com/github/Twinkle-gawri/assignment-1/blob/main/Untitled3.ipynb\" target=\"_parent\"><img src=\"https://colab.research.google.com/assets/colab-badge.svg\" alt=\"Open In Colab\"/></a>"
      ]
    },
    {
      "cell_type": "markdown",
      "source": [
        "# **QUESTION 1**"
      ],
      "metadata": {
        "id": "Izl_PBLgtKTq"
      }
    },
    {
      "cell_type": "code",
      "source": [
        "L=[11,12,13,14]\n",
        "L.append(50)\n",
        "print(\"After Adding 50 to the list ---> \",L)\n",
        "L.append(60)\n",
        "print(\"After Adding 60 to the list ---> \",L)\n",
        "\n",
        "#for i in range(0, len(L)):\n",
        " # if L[i] == 13: ----> error\n",
        "  #  del L[i]\n",
        "#print(\"After Deleting 13 the list ---> \",L)\n",
        "\n",
        "L.sort()\n",
        "print(\"After sorting ---> \",L)\n",
        "\n",
        "L.sort(reverse=True)\n",
        "print(\"After sorting ---> \",L)\n",
        "\n",
        "if (13 in L) == True:\n",
        "\tprint (\"13 is Present\")\n",
        "else:\n",
        "\tprint (\"13 is not Present\")\n",
        " \n",
        "#print (\"Sum --> \", sum(L)) ----> error \n",
        "\n",
        "even=0\n",
        "odd=0\n",
        "for i in L:\n",
        "  if i%2 == 0:\n",
        "    even = even + i\n",
        "  else:\n",
        "   odd = odd + i\n",
        "print (\"Sum of even no. is ---> \",even)\n",
        "print (\"Sum of odd no. is ---> \",odd)\n",
        "\n",
        "#doubt in prime no. sum\n",
        "\n",
        "#for i in range(0, len(L)):\n",
        " # del L[i] ---> error\n",
        "#print(\"After Deleting all elements from the list ---> \",L)\n",
        "\n",
        "del L"
      ],
      "metadata": {
        "colab": {
          "base_uri": "https://localhost:8080/"
        },
        "id": "Jc56zPkEtQav",
        "outputId": "c4ce6ad4-6483-44c2-fbc5-8953f785a736"
      },
      "execution_count": null,
      "outputs": [
        {
          "output_type": "stream",
          "name": "stdout",
          "text": [
            "After Adding 50 to the list --->  [11, 12, 13, 14, 50]\n",
            "After Adding 60 to the list --->  [11, 12, 13, 14, 50, 60]\n",
            "After sorting --->  [11, 12, 13, 14, 50, 60]\n",
            "After sorting --->  [60, 50, 14, 13, 12, 11]\n",
            "13 is Present\n",
            "Sum of even no. is --->  136\n",
            "Sum of odd no. is --->  24\n"
          ]
        }
      ]
    },
    {
      "cell_type": "markdown",
      "source": [
        "# **QUESTION 2**"
      ],
      "metadata": {
        "id": "ZG4nyffOy_LE"
      }
    },
    {
      "cell_type": "code",
      "source": [
        "D={1:5.6,2:7.8,3:6.6,4:8.7,5:7.7}\n",
        "D[8]=8.8\n",
        "print(\"After Adding 8:8.8 to the Dictionary ---> \",D)\n",
        "\n",
        "del D[2]\n",
        "print (\"After Deleting (2) ---> \", D)\n",
        "\n",
        "print (\"Is Key 6 Present ---> \", 6 in D)\n",
        "\n",
        "print (\"Num of elements ---> \", len(D))\n",
        "\n",
        "\"\"\"a=0\n",
        "print (\"Values ---> \", list(D.values()))\n",
        "a = sum ( D.values() )            ----->error\n",
        "print (\"Sum of Values ---> \", a )\"\"\"\n",
        "\n",
        "sum_values = 0\n",
        "for value in D.values():\n",
        "    sum_values += value\n",
        "print(\"Sum of values --->\", sum_values)\n",
        "\n",
        "D[3] = 7.1\n",
        "print (\"After Updating (3) ---> \", D)\n",
        "\n",
        "D.clear()\n",
        "print (\"After Clear ---> \", D)"
      ],
      "metadata": {
        "colab": {
          "base_uri": "https://localhost:8080/"
        },
        "id": "WM5bByELzJLG",
        "outputId": "cef54675-cc9d-460f-d578-c342d0cbe46b"
      },
      "execution_count": null,
      "outputs": [
        {
          "output_type": "stream",
          "name": "stdout",
          "text": [
            "After Adding 8:8.8 to the Dictionary --->  {1: 5.6, 2: 7.8, 3: 6.6, 4: 8.7, 5: 7.7, 8: 8.8}\n",
            "After Deleting (2) --->  {1: 5.6, 3: 6.6, 4: 8.7, 5: 7.7, 8: 8.8}\n",
            "Is Key 6 Present --->  False\n",
            "Num of elements --->  5\n",
            "Sum of values ---> 37.4\n",
            "After Updating (3) --->  {1: 5.6, 3: 7.1, 4: 8.7, 5: 7.7, 8: 8.8}\n",
            "After Clear --->  {}\n"
          ]
        }
      ]
    },
    {
      "cell_type": "markdown",
      "source": [
        "# **QUESTION 3**"
      ],
      "metadata": {
        "id": "by88kyibEkRu"
      }
    },
    {
      "cell_type": "code",
      "source": [
        "S1={10,20,30,40,50,60}\n",
        "S2={40,50,60,70,80,90}\n",
        "S1.add(55)\n",
        "print (\"Set After Adding 55 --> \", S1)\n",
        "S1.add(66)\n",
        "print (\"Set After Adding 66 --> \", S1)\n",
        "\n",
        "S1.remove(10)\n",
        "print (\"Set After Deleting(10)--> \", S1)\n",
        "S1.remove(30)\n",
        "print (\"Set After Deleting(30)--> \", S1)\n",
        "\n",
        "if 40 in S1:\n",
        "  print(\"Element 40 is present in the set.\")\n",
        "\n",
        "print (\"Union of S1 and S2 --> \", S1.union(S2))\n",
        "\n",
        "print (\"Intersection of S1 and S2 --> \", S1.intersection(S2))\n",
        "\n",
        "print (\"Difference a S1 - S2   --> \", S1-S2)"
      ],
      "metadata": {
        "colab": {
          "base_uri": "https://localhost:8080/"
        },
        "id": "bfDMVT92Ep5n",
        "outputId": "eb45f395-db7a-42b3-93ef-5acfff742258"
      },
      "execution_count": null,
      "outputs": [
        {
          "output_type": "stream",
          "name": "stdout",
          "text": [
            "Set After Adding 55 -->  {50, 20, 55, 40, 10, 60, 30}\n",
            "Set After Adding 66 -->  {50, 66, 20, 55, 40, 10, 60, 30}\n",
            "Set After Deleting(10)-->  {50, 66, 20, 55, 40, 60, 30}\n",
            "Set After Deleting(30)-->  {50, 66, 20, 55, 40, 60}\n",
            "Element 40 is present in the set.\n",
            "Union of S1 and S2 -->  {66, 70, 40, 80, 50, 20, 55, 90, 60}\n",
            "Intersection of S1 and S2 -->  {40, 50, 60}\n",
            "Difference a S1 - S2   -->  {66, 20, 55}\n"
          ]
        }
      ]
    },
    {
      "cell_type": "markdown",
      "source": [
        "# **QUESTION 4**"
      ],
      "metadata": {
        "id": "BGNSqPaXNS2Q"
      }
    },
    {
      "cell_type": "markdown",
      "source": [
        "**4(1)**"
      ],
      "metadata": {
        "id": "vLIL1lMIOrR_"
      }
    },
    {
      "cell_type": "code",
      "source": [
        "import random\n",
        "import string\n",
        "\n",
        "def generate_random_string():\n",
        "    size = random.randint(6, 8)\n",
        "    letters = string.ascii_letters \n",
        "    random_string = ''.join(random.choice(letters) for _ in range(size))\n",
        "    return random_string\n",
        "\n",
        "# Generate and print a random string\n",
        "for i in range(0,10):\n",
        "  random_string = generate_random_string()\n",
        "  print(\"Random string:\", random_string)\n"
      ],
      "metadata": {
        "colab": {
          "base_uri": "https://localhost:8080/"
        },
        "id": "7If1pYKXNX4T",
        "outputId": "8a5907b1-ef3f-4fc7-c2a6-15a82335ff6f"
      },
      "execution_count": null,
      "outputs": [
        {
          "output_type": "stream",
          "name": "stdout",
          "text": [
            "Random string: yxboafO\n",
            "Random string: JoaQfLAQ\n",
            "Random string: SJggpEk\n",
            "Random string: pKyvJisl\n",
            "Random string: SKOcHjZD\n",
            "Random string: fiBxJcS\n",
            "Random string: LMkAfX\n",
            "Random string: gvXJSI\n",
            "Random string: DwcIWrx\n",
            "Random string: VEJPZNC\n"
          ]
        }
      ]
    },
    {
      "cell_type": "markdown",
      "source": [
        "**4(2)**"
      ],
      "metadata": {
        "id": "v0jGwhUuO2zv"
      }
    },
    {
      "cell_type": "code",
      "source": [
        "def is_prime(n):\n",
        "    if n <= 1:\n",
        "        return False\n",
        "    for i in range(2, int(n // 2) + 1):\n",
        "        if n % i == 0:\n",
        "            return False\n",
        "    return True\n",
        "\n",
        "for num in range(600, 801):\n",
        "    if is_prime(num):\n",
        "        print(num)\n",
        "\n"
      ],
      "metadata": {
        "colab": {
          "base_uri": "https://localhost:8080/"
        },
        "id": "098zLVx3O621",
        "outputId": "318fbd63-9b62-44fe-9470-020e349f096c"
      },
      "execution_count": null,
      "outputs": [
        {
          "output_type": "stream",
          "name": "stdout",
          "text": [
            "601\n",
            "607\n",
            "613\n",
            "617\n",
            "619\n",
            "631\n",
            "641\n",
            "643\n",
            "647\n",
            "653\n",
            "659\n",
            "661\n",
            "673\n",
            "677\n",
            "683\n",
            "691\n",
            "701\n",
            "709\n",
            "719\n",
            "727\n",
            "733\n",
            "739\n",
            "743\n",
            "751\n",
            "757\n",
            "761\n",
            "769\n",
            "773\n",
            "787\n",
            "797\n"
          ]
        }
      ]
    },
    {
      "cell_type": "markdown",
      "source": [
        "4(3)"
      ],
      "metadata": {
        "id": "CQkaVBe-rLxm"
      }
    },
    {
      "cell_type": "code",
      "source": [
        "for i in range(100,1001):\n",
        "  if i % 7 == 0 and i % 9 == 0 :\n",
        "    print (i)"
      ],
      "metadata": {
        "colab": {
          "base_uri": "https://localhost:8080/"
        },
        "id": "hsAA5c0irOVi",
        "outputId": "d3738092-1b55-41d2-83e0-386c2404b7b4"
      },
      "execution_count": null,
      "outputs": [
        {
          "output_type": "stream",
          "name": "stdout",
          "text": [
            "126\n",
            "189\n",
            "252\n",
            "315\n",
            "378\n",
            "441\n",
            "504\n",
            "567\n",
            "630\n",
            "693\n",
            "756\n",
            "819\n",
            "882\n",
            "945\n"
          ]
        }
      ]
    },
    {
      "cell_type": "markdown",
      "source": [
        "# **QUESTION 5**"
      ],
      "metadata": {
        "id": "CHSsiI6PrmX0"
      }
    },
    {
      "cell_type": "code",
      "source": [
        "import random as r\n",
        "a = r.sample(range(10,31), 10)\n",
        "print (\"First List is --->\", a )\n",
        "b = r.sample(range(10,31), 10)\n",
        "print (\"Second List is --->\", b)\n",
        "common_elements = set(a) & set(b)\n",
        "print (\"Comman Elements are --->\",common_elements)\n",
        "\n",
        "unique_elements = list(set(a))\n",
        "print(\"Unique elements in a---> \", unique_elements)\n",
        "unique_elements = list(set(b))\n",
        "print(\"Unique elements in b---> \", unique_elements)\n",
        "\n",
        "print (\"max --> \", max(a))\n",
        "print (\"min --> \", min(a))\n",
        "\n",
        "print (\"max --> \", max(b))\n",
        "print (\"min --> \", min(b))\n",
        "\n",
        "#print (\"Sum --> \", sum(a)) -------> ERROR\n",
        "#print (\"Sum --> \", sum(b)) # ------->ERROR"
      ],
      "metadata": {
        "colab": {
          "base_uri": "https://localhost:8080/"
        },
        "id": "a_GqYVh-rwze",
        "outputId": "c689d7c3-4dcd-4eae-e303-ac3795a5e3a1"
      },
      "execution_count": null,
      "outputs": [
        {
          "output_type": "stream",
          "name": "stdout",
          "text": [
            "First List is ---> [24, 13, 27, 12, 28, 21, 11, 30, 19, 25]\n",
            "Second List is ---> [13, 27, 19, 23, 26, 20, 24, 11, 14, 25]\n",
            "Comman Elements are ---> {11, 13, 19, 24, 25, 27}\n",
            "Unique elements in a--->  [11, 12, 13, 19, 21, 24, 25, 27, 28, 30]\n",
            "Unique elements in b--->  [11, 13, 14, 19, 20, 23, 24, 25, 26, 27]\n",
            "max -->  30\n",
            "min -->  11\n",
            "max -->  27\n",
            "min -->  11\n"
          ]
        }
      ]
    },
    {
      "cell_type": "markdown",
      "source": [
        "# **QUESTION 6**"
      ],
      "metadata": {
        "id": "faH186JNH5mn"
      }
    },
    {
      "cell_type": "code",
      "source": [
        "import random as r\n",
        "a = r.sample(range(100,901), 100)\n",
        "print (\"List is --->\", a )\n",
        "\n",
        "odd = 0\n",
        "even = 0\n",
        "for i in a:\n",
        "  if i % 2 == 0:\n",
        "    print(i,\" is even\")\n",
        "    even = even + 1\n",
        "  else:\n",
        "    print(i,\" is odd\")\n",
        "    odd = odd + 1\n",
        "print (\"Total even no. are --->\",even)\n",
        "print (\"Total odd no. are --->\",odd)\n",
        "\n",
        "print (\"Total prime no. are --->\")\n",
        "def is_prime(n):\n",
        "    for i in range(2, int(n ** 0.5) + 1):\n",
        "        if n % i == 0:\n",
        "            return False\n",
        "    return True\n",
        "\n",
        "for num in a:\n",
        "    if is_prime(num):\n",
        "        print(num)\n",
        "\n",
        "\n"
      ],
      "metadata": {
        "colab": {
          "base_uri": "https://localhost:8080/"
        },
        "id": "dkluHqFzH9-2",
        "outputId": "377846b5-024f-4df0-84b3-33100e692d36"
      },
      "execution_count": null,
      "outputs": [
        {
          "output_type": "stream",
          "name": "stdout",
          "text": [
            "List is ---> [574, 100, 748, 471, 277, 788, 537, 472, 536, 545, 427, 412, 347, 649, 845, 498, 900, 657, 138, 624, 207, 389, 378, 310, 724, 745, 680, 733, 783, 650, 617, 716, 658, 772, 475, 280, 764, 656, 181, 372, 629, 688, 713, 156, 526, 672, 727, 615, 638, 551, 486, 517, 455, 308, 198, 102, 297, 425, 495, 668, 653, 287, 368, 465, 651, 289, 214, 397, 307, 504, 673, 659, 263, 714, 789, 299, 257, 741, 469, 179, 449, 743, 898, 663, 159, 546, 324, 166, 569, 710, 563, 739, 336, 147, 775, 436, 252, 679, 736, 399]\n",
            "574  is even\n",
            "100  is even\n",
            "748  is even\n",
            "471  is odd\n",
            "277  is odd\n",
            "788  is even\n",
            "537  is odd\n",
            "472  is even\n",
            "536  is even\n",
            "545  is odd\n",
            "427  is odd\n",
            "412  is even\n",
            "347  is odd\n",
            "649  is odd\n",
            "845  is odd\n",
            "498  is even\n",
            "900  is even\n",
            "657  is odd\n",
            "138  is even\n",
            "624  is even\n",
            "207  is odd\n",
            "389  is odd\n",
            "378  is even\n",
            "310  is even\n",
            "724  is even\n",
            "745  is odd\n",
            "680  is even\n",
            "733  is odd\n",
            "783  is odd\n",
            "650  is even\n",
            "617  is odd\n",
            "716  is even\n",
            "658  is even\n",
            "772  is even\n",
            "475  is odd\n",
            "280  is even\n",
            "764  is even\n",
            "656  is even\n",
            "181  is odd\n",
            "372  is even\n",
            "629  is odd\n",
            "688  is even\n",
            "713  is odd\n",
            "156  is even\n",
            "526  is even\n",
            "672  is even\n",
            "727  is odd\n",
            "615  is odd\n",
            "638  is even\n",
            "551  is odd\n",
            "486  is even\n",
            "517  is odd\n",
            "455  is odd\n",
            "308  is even\n",
            "198  is even\n",
            "102  is even\n",
            "297  is odd\n",
            "425  is odd\n",
            "495  is odd\n",
            "668  is even\n",
            "653  is odd\n",
            "287  is odd\n",
            "368  is even\n",
            "465  is odd\n",
            "651  is odd\n",
            "289  is odd\n",
            "214  is even\n",
            "397  is odd\n",
            "307  is odd\n",
            "504  is even\n",
            "673  is odd\n",
            "659  is odd\n",
            "263  is odd\n",
            "714  is even\n",
            "789  is odd\n",
            "299  is odd\n",
            "257  is odd\n",
            "741  is odd\n",
            "469  is odd\n",
            "179  is odd\n",
            "449  is odd\n",
            "743  is odd\n",
            "898  is even\n",
            "663  is odd\n",
            "159  is odd\n",
            "546  is even\n",
            "324  is even\n",
            "166  is even\n",
            "569  is odd\n",
            "710  is even\n",
            "563  is odd\n",
            "739  is odd\n",
            "336  is even\n",
            "147  is odd\n",
            "775  is odd\n",
            "436  is even\n",
            "252  is even\n",
            "679  is odd\n",
            "736  is even\n",
            "399  is odd\n",
            "Total even no. are ---> 46\n",
            "Total odd no. are ---> 54\n",
            "Total prime no. are --->\n",
            "277\n",
            "347\n",
            "389\n",
            "733\n",
            "617\n",
            "181\n",
            "727\n",
            "653\n",
            "397\n",
            "307\n",
            "673\n",
            "659\n",
            "263\n",
            "257\n",
            "179\n",
            "449\n",
            "743\n",
            "569\n",
            "563\n",
            "739\n"
          ]
        }
      ]
    },
    {
      "cell_type": "markdown",
      "source": [
        "# **QUESTION 7**"
      ],
      "metadata": {
        "id": "2beFXjmUL2VN"
      }
    },
    {
      "cell_type": "code",
      "source": [
        "D={1:\"one\",2:\"two\",3:\"three\",4:\"four\",5:\"five\"}\n",
        "for k in D:\n",
        "\tprint ( k, \" , \", D[k])"
      ],
      "metadata": {
        "colab": {
          "base_uri": "https://localhost:8080/"
        },
        "id": "U51NZwvpL8gB",
        "outputId": "9cd26724-6807-4d94-d9f1-b78d96fa8b84"
      },
      "execution_count": null,
      "outputs": [
        {
          "output_type": "stream",
          "name": "stdout",
          "text": [
            "1  ,  one\n",
            "2  ,  two\n",
            "3  ,  three\n",
            "4  ,  four\n",
            "5  ,  five\n"
          ]
        }
      ]
    },
    {
      "cell_type": "markdown",
      "source": [
        "# **QUESTION 8**"
      ],
      "metadata": {
        "id": "t2DCPXfPOGrq"
      }
    },
    {
      "cell_type": "code",
      "source": [
        "D={\"one\",\"two\",\"three\",\"four\",\"five\"}\n",
        "fp=open('result.txt','w')\n",
        "for  i in D:\n",
        "  length = len(i)\n",
        "  fp.write(f'{i}: {length}\\n')\n",
        "fp.close()"
      ],
      "metadata": {
        "id": "s7wVkd5fOOs-"
      },
      "execution_count": null,
      "outputs": []
    },
    {
      "cell_type": "markdown",
      "source": [
        "# **QUESTION 9**"
      ],
      "metadata": {
        "id": "94v5q-HOQdFg"
      }
    },
    {
      "cell_type": "code",
      "source": [
        "import random\n",
        "import string\n",
        "\n",
        "def generate_random_string():\n",
        "    size = random.randint(10, 15)\n",
        "    letters = string.ascii_letters \n",
        "    random_string = ''.join(random.choice(letters) for _ in range(size))\n",
        "    return random_string\n",
        "\n",
        "fp=open('result.txt','w')\n",
        "for i in range(0,100):\n",
        "  random_string = generate_random_string()\n",
        "  fp.write( random_string )\n",
        "\n",
        "  # File par kuch nhi likha ja rha h"
      ],
      "metadata": {
        "id": "DCsLfPavQiBL"
      },
      "execution_count": null,
      "outputs": []
    },
    {
      "cell_type": "markdown",
      "source": [
        "# **QUESTION 10**"
      ],
      "metadata": {
        "id": "EsNwG_whTOjq"
      }
    },
    {
      "cell_type": "code",
      "source": [
        "def is_prime(n):\n",
        "    for i in range(2, int(n ** 0.5) + 1):\n",
        "        if n % i == 0:\n",
        "            return False\n",
        "    return True\n",
        "\n",
        "\n",
        "fp = open('prime_numbers.txt', 'w')\n",
        "    \n",
        "for num in range(600, 801):\n",
        "  if is_prime(num):\n",
        "    fp.write(str(num) + '\\n')\n",
        "# File par kuch nhi likha ja rha h"
      ],
      "metadata": {
        "id": "c_oS4MRbTSjm"
      },
      "execution_count": null,
      "outputs": []
    },
    {
      "cell_type": "markdown",
      "source": [
        "# **QUESTION 11**"
      ],
      "metadata": {
        "id": "Ci51a4BZUVdA"
      }
    },
    {
      "cell_type": "code",
      "source": [
        "import time as t\n",
        "\n",
        "start_time = t.time()\n",
        "end_time = t.time()\n",
        "elapsed_time = end_time - start_time\n",
        "\n",
        "print(\"Elapsed time:\", elapsed_time, \"seconds\")\n"
      ],
      "metadata": {
        "colab": {
          "base_uri": "https://localhost:8080/"
        },
        "id": "UwkPKiM0UZ-z",
        "outputId": "595a0dc5-b9aa-48a6-e571-0c455372e152"
      },
      "execution_count": null,
      "outputs": [
        {
          "output_type": "stream",
          "name": "stdout",
          "text": [
            "Elapsed time: 5.030632019042969e-05 seconds\n"
          ]
        }
      ]
    }
  ]
}